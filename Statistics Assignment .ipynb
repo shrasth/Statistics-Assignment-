{
 "cells": [
  {
   "cell_type": "markdown",
   "id": "0106c7b7-f637-492f-bf50-04513b2bb008",
   "metadata": {},
   "source": [
    "### Q1. What are the three measures of central tendency?"
   ]
  },
  {
   "cell_type": "markdown",
   "id": "64a8c628-27a5-41eb-bf2c-869b63df1740",
   "metadata": {},
   "source": [
    "The three measures of central tendency are:\n",
    "\n",
    "1. Mean\n",
    "2. Median\n",
    "3. Mode"
   ]
  },
  {
   "cell_type": "markdown",
   "id": "e8bbeeb8-3d49-4779-86f5-6608a4927a82",
   "metadata": {},
   "source": [
    "### Q2. What is the difference between the mean, median, and mode? How are they used to measure the central tendency of a dataset?"
   ]
  },
  {
   "cell_type": "markdown",
   "id": "a15434c6-ad1a-41f1-b31a-674945363f68",
   "metadata": {},
   "source": [
    "**Mean**: The mean, also known as the average, is calculated by summing up all the values in a dataset and dividing the sum by the total number of values.\n",
    "\n",
    "**Median**: The median is the middle value in a dataset when it is sorted in ascending or descending order.\n",
    "\n",
    "**Mode**: The mode is the value or values that appear most frequently in a dataset. \n",
    "\n",
    "\n",
    "To measure the central tendency of a dataset, we can use one or more of these measures depending on the nature of the data.\n",
    "\n",
    "1. If we want to calculate the average value of the data, use the mean.\n",
    "\n",
    "2. If we want to find the middle value that splits the dataset into two equal halves, use the median.\n",
    "\n",
    "3. If we need identify the most frequent or commonly occurring value(s) in the dataset, use the mode."
   ]
  },
  {
   "cell_type": "markdown",
   "id": "bbc18bc7-8a96-4ccf-9449-822ed1870ea9",
   "metadata": {},
   "source": [
    "### Q3. Measure the three measures of central tendency for the given height data:\n",
    "\n",
    "[178,177,176,177,178.2,178,175,179,180,175,178.9,176.2,177,172.5,178,176.5]"
   ]
  },
  {
   "cell_type": "code",
   "execution_count": 1,
   "id": "0f407090-dabd-4203-b269-b1e5d731d3e4",
   "metadata": {},
   "outputs": [],
   "source": [
    "lst = [178,177,176,177,178.2,178,175,179,180,175,178.9,176.2,177,172.5,178,176.5]"
   ]
  },
  {
   "cell_type": "code",
   "execution_count": 2,
   "id": "1572d52c-1d88-41b2-9df7-07a2535abca7",
   "metadata": {},
   "outputs": [],
   "source": [
    "import numpy as np"
   ]
  },
  {
   "cell_type": "markdown",
   "id": "d0f06669-17cc-407b-878e-ba0d5861a21e",
   "metadata": {},
   "source": [
    "**Mean**"
   ]
  },
  {
   "cell_type": "code",
   "execution_count": 4,
   "id": "412f0637-5d86-4a18-b220-8a73f12814fc",
   "metadata": {},
   "outputs": [
    {
     "data": {
      "text/plain": [
       "177.01875"
      ]
     },
     "execution_count": 4,
     "metadata": {},
     "output_type": "execute_result"
    }
   ],
   "source": [
    "np.mean(lst)"
   ]
  },
  {
   "cell_type": "markdown",
   "id": "fd02aa4c-384f-4496-ba02-95f05d74918b",
   "metadata": {},
   "source": [
    "**Median**"
   ]
  },
  {
   "cell_type": "code",
   "execution_count": 5,
   "id": "751e8233-a528-4b74-99bd-c666eb043781",
   "metadata": {},
   "outputs": [
    {
     "data": {
      "text/plain": [
       "177.0"
      ]
     },
     "execution_count": 5,
     "metadata": {},
     "output_type": "execute_result"
    }
   ],
   "source": [
    "np.median(lst)"
   ]
  },
  {
   "cell_type": "markdown",
   "id": "d4b9112d-00f1-4af0-b38b-484ded519ebc",
   "metadata": {},
   "source": [
    "**Mode**"
   ]
  },
  {
   "cell_type": "code",
   "execution_count": 6,
   "id": "ce2c3d8d-a8c9-4908-b918-5b15fadccbfe",
   "metadata": {},
   "outputs": [],
   "source": [
    "from scipy import stats"
   ]
  },
  {
   "cell_type": "code",
   "execution_count": 7,
   "id": "d1e67027-e7f7-4ab3-9ffc-705c0b05aff3",
   "metadata": {},
   "outputs": [
    {
     "name": "stderr",
     "output_type": "stream",
     "text": [
      "/tmp/ipykernel_84/3572933456.py:1: FutureWarning: Unlike other reduction functions (e.g. `skew`, `kurtosis`), the default behavior of `mode` typically preserves the axis it acts along. In SciPy 1.11.0, this behavior will change: the default value of `keepdims` will become False, the `axis` over which the statistic is taken will be eliminated, and the value None will no longer be accepted. Set `keepdims` to True or False to avoid this warning.\n",
      "  stats.mode(lst)\n"
     ]
    },
    {
     "data": {
      "text/plain": [
       "ModeResult(mode=array([177.]), count=array([3]))"
      ]
     },
     "execution_count": 7,
     "metadata": {},
     "output_type": "execute_result"
    }
   ],
   "source": [
    "stats.mode(lst)"
   ]
  },
  {
   "cell_type": "markdown",
   "id": "381442b9-d4ab-4a32-ae0f-4dd8e4545973",
   "metadata": {},
   "source": [
    "### Q4. Find the standard deviation for the given data:\n",
    "[178,177,176,177,178.2,178,175,179,180,175,178.9,176.2,177,172.5,178,176.5]"
   ]
  },
  {
   "cell_type": "code",
   "execution_count": 8,
   "id": "a3220858-50cd-4348-afd0-bcfd7fa976a5",
   "metadata": {},
   "outputs": [],
   "source": [
    "lst = [178,177,176,177,178.2,178,175,179,180,175,178.9,176.2,177,172.5,178,176.5]"
   ]
  },
  {
   "cell_type": "code",
   "execution_count": 9,
   "id": "cbb15340-d2cb-42fd-854c-fbc6c4cbc4a8",
   "metadata": {},
   "outputs": [],
   "source": [
    "std = np.std(lst)"
   ]
  },
  {
   "cell_type": "code",
   "execution_count": 11,
   "id": "15ed7d0b-5473-4cb0-8d6b-91f9a5498150",
   "metadata": {},
   "outputs": [
    {
     "data": {
      "text/plain": [
       "1.7885814036548633"
      ]
     },
     "execution_count": 11,
     "metadata": {},
     "output_type": "execute_result"
    }
   ],
   "source": [
    "std"
   ]
  },
  {
   "cell_type": "markdown",
   "id": "305781e6-a8cc-4ca0-8cf4-52b448b805a3",
   "metadata": {},
   "source": [
    "### Q5. How are measures of dispersion such as range, variance, and standard deviation used to describe the spread of a dataset? Provide an example."
   ]
  },
  {
   "cell_type": "markdown",
   "id": "8eb0e2a5-e47e-4d3e-afcc-fae38d7d7c51",
   "metadata": {},
   "source": [
    "**Range**: The range is the simplest measure of dispersion and is calculated by subtracting the smallest value in the dataset from the largest value.\n",
    "\n",
    "For example: Consider the following dataset representing the daily temperatures (in degrees Celsius) for a week: {20, 22, 19, 21, 25, 18, 23}. \n",
    "\n",
    "The range would be calculated as 25 - 18 = 7, indicating that the temperatures range from 18 to 25 degrees Celsius."
   ]
  },
  {
   "cell_type": "markdown",
   "id": "0d72f222-37f0-481f-a03d-d8f91bff0e7a",
   "metadata": {},
   "source": [
    "**Variance**: The variance measures the average squared deviation of each value from the mean. It considers all the values in the dataset and provides a measure of the overall variability.\n",
    "\n",
    "For example: Using the same dataset of daily temperatures, we can calculate the variance. \n",
    "\n",
    "First, calculate the mean by adding up all the values (20 + 22 + 19 + 21 + 25 + 18 + 23 = 148) and dividing by the total number of values (7).The mean is 148/7 ≈ 21.14. \n",
    "\n",
    "Next, calculate the squared difference between each value and the mean: (20 - 21.14)², (22 - 21.14)², (19 - 21.14)², and so on. \n",
    "\n",
    "Sum up these squared differences and divide by the total number of values (7) to obtain the variance."
   ]
  },
  {
   "cell_type": "markdown",
   "id": "7aeead87-fb75-47e3-b3cc-7abf70ee0d33",
   "metadata": {},
   "source": [
    "**Standard Deviation**: The standard deviation is the square root of the variance and provides a measure of the dispersion that is in the same units as the original data.\n",
    "\n",
    "Example: Taking into consideration of the the previous dataset, once we calculate the variance, we can take its square root to find the standard deviation. This provides a more interpretable measure of dispersion."
   ]
  },
  {
   "cell_type": "markdown",
   "id": "926a3e07-c5ad-453f-bd57-1c6e59f5e7cc",
   "metadata": {},
   "source": [
    "### Q6. What is a Venn diagram?"
   ]
  },
  {
   "cell_type": "markdown",
   "id": "b55c2b8a-7cb8-4d87-bbde-00df3b4d2cd6",
   "metadata": {},
   "source": [
    "A Venn diagram is a graphical representation of the relationships between different sets of items. It uses overlapping circles or other shapes to visually depict the intersections and differences among sets."
   ]
  },
  {
   "cell_type": "markdown",
   "id": "9ea8ea9e-7599-408b-b1d6-d5dcbc557471",
   "metadata": {},
   "source": [
    "### Q7. For the two given sets A = (2,3,4,5,6,7) & B = (0,2,6,8,10). Find:\n",
    "\n",
    "(i) A ∩ B\n",
    "\n",
    "(ii) A ⋃ B"
   ]
  },
  {
   "cell_type": "code",
   "execution_count": 12,
   "id": "f8ce58f9-2e66-4904-af22-ca01182efe1f",
   "metadata": {},
   "outputs": [],
   "source": [
    "A = (2,3,4,5,6,7)\n",
    "B = (0,2,6,8,10)"
   ]
  },
  {
   "cell_type": "markdown",
   "id": "710a0176-e96f-4f8c-b3e8-5d5306b7e772",
   "metadata": {},
   "source": [
    "**(i) A ∩ B**\n",
    "\n",
    "{2,6}"
   ]
  },
  {
   "cell_type": "markdown",
   "id": "2c882790-4604-4a24-af7f-b753d5640d5b",
   "metadata": {},
   "source": [
    "**(ii) A ⋃ B**\n",
    "\n",
    "{0, 2, 3, 4, 5, 6, 7, 8, 10}"
   ]
  },
  {
   "cell_type": "markdown",
   "id": "a45b34c5-e1c5-465a-ae21-8871f6b2c36e",
   "metadata": {},
   "source": [
    "### Q8. What do you understand about skewness in data?"
   ]
  },
  {
   "cell_type": "markdown",
   "id": "fe33d30a-ad4f-411d-85cf-daa727e6e360",
   "metadata": {},
   "source": [
    "Skewness is a statistical measure that describes the asymmetry or lack of symmetry in the distribution of a dataset.\n",
    "\n",
    "Moreover, it also provides information about the shape of the distribution and the positioning of the data points relative to the mean."
   ]
  },
  {
   "cell_type": "markdown",
   "id": "8b886153-7157-45b9-9c88-db5c5d008d26",
   "metadata": {},
   "source": [
    "### Q9. If a data is right skewed then what will be the position of median with respect to mean?"
   ]
  },
  {
   "cell_type": "markdown",
   "id": "ac7a2f0e-ca8b-4602-b549-94c352e0b148",
   "metadata": {},
   "source": [
    "If a dataset is right-skewed, the position of the median with respect to the mean will typically be lower than the mean."
   ]
  },
  {
   "cell_type": "markdown",
   "id": "8061b9b0-69bd-4c79-a5d0-a911f9dc4836",
   "metadata": {},
   "source": [
    "### Q10. Explain the difference between covariance and correlation. How are these measures used in statistical analysis?"
   ]
  },
  {
   "cell_type": "markdown",
   "id": "e803fc9d-5071-44e1-ad95-c05ec25a55ec",
   "metadata": {},
   "source": [
    "Covariance and correlation are both measures used to describe the relationship between two variables in statistical analysis.\n",
    "\n",
    "**Covariance**:\n",
    "Covariance measures the extent and direction of the linear relationship between two variables. \n",
    "\n",
    "**Correlation**:\n",
    "Correlation, on the other hand, standardizes the relationship between two variables, making it easier to interpret and compare."
   ]
  },
  {
   "cell_type": "markdown",
   "id": "46b6ef44-2c32-48f7-ab26-239965219ffd",
   "metadata": {},
   "source": [
    "### Q11. What is the formula for calculating the sample mean? Provide an example calculation for a dataset."
   ]
  },
  {
   "cell_type": "markdown",
   "id": "69adea74-171d-4d19-8b8a-7390d9842a27",
   "metadata": {},
   "source": [
    "The formula for calculating the sample mean is:\n",
    "\n",
    "Sample Mean (x̄) = (Sum of all the values in the dataset) / (Number of values in the dataset)"
   ]
  },
  {
   "cell_type": "code",
   "execution_count": 14,
   "id": "af7a7119-192f-41c0-ac36-44cb8c990211",
   "metadata": {},
   "outputs": [],
   "source": [
    "d = [10,15,12,8,20]"
   ]
  },
  {
   "cell_type": "code",
   "execution_count": 15,
   "id": "f896d705-7077-4ef9-9d5e-048c6a96a468",
   "metadata": {},
   "outputs": [
    {
     "data": {
      "text/plain": [
       "65"
      ]
     },
     "execution_count": 15,
     "metadata": {},
     "output_type": "execute_result"
    }
   ],
   "source": [
    "##Add up all values\n",
    "\n",
    "add = 10+15+12+8+20\n",
    "add"
   ]
  },
  {
   "cell_type": "code",
   "execution_count": 17,
   "id": "03edf00b-0a81-4275-843a-641ed11b3611",
   "metadata": {},
   "outputs": [],
   "source": [
    "## Count the number of values in the dataset\n",
    "\n",
    "##total 5 values"
   ]
  },
  {
   "cell_type": "markdown",
   "id": "6308154e-86ec-41d6-8685-b80e83cbe46d",
   "metadata": {},
   "source": [
    "##Apply the formula for the sample mean:\n",
    "##Sample Mean (x̄) = (Sum of all the values) / (Number of values)\n",
    "\n",
    "mean = add/5\n",
    "\n",
    "mean"
   ]
  },
  {
   "cell_type": "markdown",
   "id": "b123d962-306c-439a-80eb-97f4c7b7b9fe",
   "metadata": {},
   "source": [
    "### Q12. For a normal distribution data what is the relationship between its measure of central tendency?"
   ]
  },
  {
   "cell_type": "markdown",
   "id": "29827ebe-21ca-4220-99a6-5adf00c46a66",
   "metadata": {},
   "source": [
    "In a normal distribution, the measure of central tendency, which includes the mean, median, and mode, are all located at the same point. "
   ]
  },
  {
   "cell_type": "markdown",
   "id": "c00aba29-775b-47f0-85a5-aa2342dcbf90",
   "metadata": {},
   "source": [
    "### Q13. How is covariance different from correlation?"
   ]
  },
  {
   "cell_type": "markdown",
   "id": "45d8477d-7ecf-4023-866c-abb441745d26",
   "metadata": {},
   "source": [
    "Covariance measures the linear relationship between two variables but is influenced by the scales of the variables. Correlation, on the other hand, standardizes the relationship and provides a consistent measure of the strength and direction of the linear relationship, regardless of the scales of the variables."
   ]
  },
  {
   "cell_type": "markdown",
   "id": "3bc14e0b-af24-4398-86b8-255e0999cb65",
   "metadata": {},
   "source": [
    "### Q14. How do outliers affect measures of central tendency and dispersion? Provide an example."
   ]
  },
  {
   "cell_type": "markdown",
   "id": "fdc56ecd-11bc-4cf4-ab42-7f6ba4861353",
   "metadata": {},
   "source": [
    "Outliers can distort these measures and potentially provide misleading or inaccurate summaries of the data.\n",
    "\n",
    "Here's how outliers affect these measures:"
   ]
  },
  {
   "cell_type": "markdown",
   "id": "cced93ca-47df-4308-874c-07eab7321daf",
   "metadata": {},
   "source": [
    "**Measures of Dispersion**:\n",
    "\n",
    "**Mean**:\n",
    "\n",
    "Since the mean is calculated by summing up all values and dividing by the total count ,outliers can have a substantial impact on the mean.\n",
    "\n",
    "For example:  Consider the following dataset of salaries (): 40,000, 42,000, 45,000, 43,000, 50,000, 300,000. \n",
    "\n",
    "The outlier of $300,000 is significantly larger than the other values. \n",
    "\n",
    "If we calculate the mean, it will be heavily influenced by the outlier and will be higher than what represents the central tendency of the majority of the data."
   ]
  },
  {
   "cell_type": "markdown",
   "id": "239df301-99a1-42fd-82ae-1cc287e45e4c",
   "metadata": {},
   "source": [
    "**Median**: \n",
    "\n",
    "Outliers have less impact on the median because it only considers the relative position of values rather than their actual magnitude.\n",
    "\n",
    "For example: Taking the same dataset mentioned above, the median will be unaffected by the outlier of 300,000. It will be the middle value, which is 43,000 in this case."
   ]
  },
  {
   "cell_type": "markdown",
   "id": "6a4bd991-9890-4c83-851d-f5fbdb3d79a2",
   "metadata": {},
   "source": [
    "**Measures of Dispersion**:\n",
    "\n",
    "**Range**:\n",
    "\n",
    "Outliers can substantially affect the range, which is the difference between the largest and smallest values in a dataset.\n",
    "\n",
    "Example: Consider a dataset of test scores: 75, 80, 85, 90, 95, 150. The outlier score of 150 significantly increases the range from 75 to 150, making it a poor representation of the majority of the data."
   ]
  },
  {
   "cell_type": "markdown",
   "id": "23166edf-3e79-4bfb-bffe-d61e7a435740",
   "metadata": {},
   "source": [
    "**Variance and Standard Deviation**: \n",
    "\n",
    "Outliers can also impact the measures of variance and standard deviation. Both of these measures consider the deviation of each value from the mean.\n",
    "\n",
    "\n",
    "Example: Using the same salary dataset as before, the outlier of 300,000 will contribute to a larger variance and standard deviation compared to a dataset without outliers."
   ]
  }
 ],
 "metadata": {
  "kernelspec": {
   "display_name": "Python 3 (ipykernel)",
   "language": "python",
   "name": "python3"
  },
  "language_info": {
   "codemirror_mode": {
    "name": "ipython",
    "version": 3
   },
   "file_extension": ".py",
   "mimetype": "text/x-python",
   "name": "python",
   "nbconvert_exporter": "python",
   "pygments_lexer": "ipython3",
   "version": "3.10.8"
  }
 },
 "nbformat": 4,
 "nbformat_minor": 5
}
